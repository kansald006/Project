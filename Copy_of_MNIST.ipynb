{
  "nbformat": 4,
  "nbformat_minor": 0,
  "metadata": {
    "colab": {
      "name": "Copy of MNIST.ipynb",
      "version": "0.3.2",
      "provenance": [],
      "include_colab_link": true
    },
    "kernelspec": {
      "display_name": "Python 3",
      "language": "python",
      "name": "python3"
    }
  },
  "cells": [
    {
      "cell_type": "markdown",
      "metadata": {
        "id": "view-in-github",
        "colab_type": "text"
      },
      "source": [
        "<a href=\"https://colab.research.google.com/github/kansald006/Project/blob/master/Copy_of_MNIST.ipynb\" target=\"_parent\"><img src=\"https://colab.research.google.com/assets/colab-badge.svg\" alt=\"Open In Colab\"/></a>"
      ]
    },
    {
      "metadata": {
        "id": "K2nSM4C25KW1",
        "colab_type": "text"
      },
      "cell_type": "markdown",
      "source": [
        "# MNIST for mobile devs\n",
        "\n",
        "This notebook is just the longer, more detailed version of [Get Started with TensorFlow](https://www.tensorflow.org/tutorials/) ([Colab notebook](https://colab.research.google.com/github/tensorflow/docs/blob/master/site/en/tutorials/_index.ipynb#scrollTo=T4JfEh7kvx6m)). The intention here is to show the way of thinking that can be useful for you, as a consumer of TensorFlow model. It shows where some numbers come from, so you know how to plug in your first model to Android or any other platform supporting TensorFlow lite.\n",
        "\n",
        "**Hey, mobile engineer**, look for -> (⚠️📲👀). It can be useful information for you while implementing MNIST model in mobile app."
      ]
    },
    {
      "metadata": {
        "id": "LsJIbSJ05KXT",
        "colab_type": "code",
        "outputId": "892fb7e5-9685-49f4-f58c-92cd3601759c",
        "colab": {
          "base_uri": "https://localhost:8080/",
          "height": 34
        }
      },
      "cell_type": "code",
      "source": [
        "# TensorFlow and tf.keras\n",
        "import tensorflow as tf\n",
        "from tensorflow import keras\n",
        "\n",
        "# Helper libraries\n",
        "import numpy as np\n",
        "import matplotlib.pyplot as plt\n",
        "\n",
        "print(\"TensorFlow version {}\".format(tf.__version__))"
      ],
      "execution_count": 0,
      "outputs": [
        {
          "output_type": "stream",
          "text": [
            "TensorFlow version 1.13.0-rc0\n"
          ],
          "name": "stdout"
        }
      ]
    },
    {
      "metadata": {
        "id": "s-wHXNN15KYB",
        "colab_type": "text"
      },
      "cell_type": "markdown",
      "source": [
        "Load MNIST dataset:"
      ]
    },
    {
      "metadata": {
        "id": "_uN_qDrh5KYS",
        "colab_type": "code",
        "outputId": "b68cdafd-9f87-4def-a596-8883dc01e4a0",
        "colab": {
          "base_uri": "https://localhost:8080/",
          "height": 51
        }
      },
      "cell_type": "code",
      "source": [
        "mnist = tf.keras.datasets.mnist\n",
        "(images_train, labels_train),(images_test, labels_test) = mnist.load_data()\n",
        "class_names = [\"zero\",\"one\",\"two\",\"three\",\"four\",\"five\",\"six\",\"seven\",\"eight\",\"nine\"]"
      ],
      "execution_count": 0,
      "outputs": [
        {
          "output_type": "stream",
          "text": [
            "Downloading data from https://storage.googleapis.com/tensorflow/tf-keras-datasets/mnist.npz\n",
            "11493376/11490434 [==============================] - 0s 0us/step\n"
          ],
          "name": "stdout"
        }
      ]
    },
    {
      "metadata": {
        "id": "7l6flDgk5KYn",
        "colab_type": "text"
      },
      "cell_type": "markdown",
      "source": [
        "## What is our training data?"
      ]
    },
    {
      "metadata": {
        "id": "u06tWe0S5KYs",
        "colab_type": "text"
      },
      "cell_type": "markdown",
      "source": [
        "### Training images"
      ]
    },
    {
      "metadata": {
        "id": "7TW0T_NI5KYz",
        "colab_type": "code",
        "outputId": "c4f6069f-3c33-41aa-92a6-b4c92fe7b45a",
        "colab": {
          "base_uri": "https://localhost:8080/",
          "height": 51
        }
      },
      "cell_type": "code",
      "source": [
        "print(\"Data type:\", type(images_train))\n",
        "print(\"Dataset shape:\", (images_train.shape))"
      ],
      "execution_count": 0,
      "outputs": [
        {
          "output_type": "stream",
          "text": [
            "Data type: <class 'numpy.ndarray'>\n",
            "Dataset shape: (60000, 28, 28)\n"
          ],
          "name": "stdout"
        }
      ]
    },
    {
      "metadata": {
        "id": "Cga3gN5l5KY8",
        "colab_type": "text"
      },
      "cell_type": "markdown",
      "source": [
        "It means that we get array of 60000 images for training, 28x28 pixels each."
      ]
    },
    {
      "metadata": {
        "id": "Hpwl1Kio5KY_",
        "colab_type": "text"
      },
      "cell_type": "markdown",
      "source": [
        "### Labels"
      ]
    },
    {
      "metadata": {
        "id": "hRV5yULQ5KZB",
        "colab_type": "code",
        "outputId": "92ce9174-2330-4732-9c58-5caf1554125c",
        "colab": {
          "base_uri": "https://localhost:8080/",
          "height": 51
        }
      },
      "cell_type": "code",
      "source": [
        "print(\"Labels:\", len(labels_train))\n",
        "print(\"Possible values:\", np.unique(labels_train))"
      ],
      "execution_count": 0,
      "outputs": [
        {
          "output_type": "stream",
          "text": [
            "Labels: 60000\n",
            "Possible values: [0 1 2 3 4 5 6 7 8 9]\n"
          ],
          "name": "stdout"
        }
      ]
    },
    {
      "metadata": {
        "id": "-6Lm1IL95KZO",
        "colab_type": "text"
      },
      "cell_type": "markdown",
      "source": [
        "### Example image"
      ]
    },
    {
      "metadata": {
        "id": "1B4uWNcl5KZX",
        "colab_type": "code",
        "outputId": "7da1f138-890e-4c44-8e33-b1da504de5c0",
        "colab": {
          "base_uri": "https://localhost:8080/",
          "height": 361
        }
      },
      "cell_type": "code",
      "source": [
        "plt.figure()\n",
        "plt.imshow(images_train[0])\n",
        "plt.colorbar()\n",
        "plt.grid(False)\n",
        "plt.xlabel(\"Classification label: {}\".format(labels_train[0]))\n",
        "plt.show()"
      ],
      "execution_count": 0,
      "outputs": [
        {
          "output_type": "display_data",
          "data": {
            "image/png": "[encoded data removed]",
            "text/plain": [
              "<Figure size 576x396 with 2 Axes>"
            ]
          },
          "metadata": {
            "tags": []
          }
        }
      ]
    },
    {
      "metadata": {
        "id": "1Tl0QAFb5KZs",
        "colab_type": "text"
      },
      "cell_type": "markdown",
      "source": [
        "Each cell (pixel) can have value from 0 to 255 like it's presented above. \n",
        "\n",
        "Let's scale it to float value between 0 and 1:"
      ]
    },
    {
      "metadata": {
        "id": "LCKetav_5KaB",
        "colab_type": "code",
        "colab": {}
      },
      "cell_type": "code",
      "source": [
        "images_train = images_train / 255.0\n",
        "images_test = images_test / 255.0"
      ],
      "execution_count": 0,
      "outputs": []
    },
    {
      "metadata": {
        "id": "DRWXW_Gq5Kaa",
        "colab_type": "code",
        "outputId": "11f9d177-0f8e-4a19-f552-eba7cba07132",
        "colab": {
          "base_uri": "https://localhost:8080/",
          "height": 365
        }
      },
      "cell_type": "code",
      "source": [
        "plt.figure()\n",
        "plt.imshow(images_train[0])\n",
        "plt.colorbar()\n",
        "plt.grid(False)\n",
        "plt.xlabel(\"Classification label: {}\".format(labels_train[0]))\n",
        "plt.show()"
      ],
      "execution_count": 0,
      "outputs": [
        {
          "output_type": "display_data",
          "data": {
            "image/png": "[encoded data removed]",
            "text/plain": [
              "<Figure size 576x396 with 2 Axes>"
            ]
          },
          "metadata": {
            "tags": []
          }
        }
      ]
    },
    {
      "metadata": {
        "id": "T8pPxM1y5Kas",
        "colab_type": "text"
      },
      "cell_type": "markdown",
      "source": [
        "---\n",
        "(⚠️📲👀)\n",
        "\n",
        "It is worth mentioning that input images are inverted (white number on black background). MNIST data is prepared in a way where the smaller pixel's value is, the whiter it is (0 means 100% white, 255 means 100% black). \n",
        "\n",
        "It's important because when you plug in model to an Android app, you will need to prepare input image in the same way (scale down and inverse colors)."
      ]
    },
    {
      "metadata": {
        "id": "SloIQcl-5Kav",
        "colab_type": "code",
        "outputId": "e8b4757b-2e95-4d80-ecec-f6be2467fd1d",
        "colab": {
          "base_uri": "https://localhost:8080/",
          "height": 142
        }
      },
      "cell_type": "code",
      "source": [
        "plt.figure(figsize=(10, 10))\n",
        "\n",
        "plt.subplot(3, 6, 1)\n",
        "plt.xticks([])\n",
        "plt.yticks([])\n",
        "plt.xlabel(\"Inverse\")\n",
        "plt.imshow(images_train[0], cmap=plt.cm.binary)\n",
        "\n",
        "plt.subplot(3, 6, 2)\n",
        "plt.xticks([])\n",
        "plt.yticks([])\n",
        "plt.xlabel(\"Original\")\n",
        "plt.imshow(images_train[0], cmap=plt.cm.gray)"
      ],
      "execution_count": 0,
      "outputs": [
        {
          "output_type": "execute_result",
          "data": {
            "text/plain": [
              "<matplotlib.image.AxesImage at 0x7f90a6f88a20>"
            ]
          },
          "metadata": {
            "tags": []
          },
          "execution_count": 9
        },
        {
          "output_type": "display_data",
          "data": {
            "image/png": "[encoded data removed]",
            "text/plain": [
              "<Figure size 720x720 with 2 Axes>"
            ]
          },
          "metadata": {
            "tags": []
          }
        }
      ]
    },
    {
      "metadata": {
        "id": "Ku5c4qIR5KbD",
        "colab_type": "text"
      },
      "cell_type": "markdown",
      "source": [
        "## Model training"
      ]
    },
    {
      "metadata": {
        "id": "ejnwMS4p5KbG",
        "colab_type": "code",
        "outputId": "7875e688-b2cc-4998-db23-c8b4a0038bde",
        "colab": {
          "base_uri": "https://localhost:8080/",
          "height": 139
        }
      },
      "cell_type": "code",
      "source": [
        "model = tf.keras.models.Sequential([\n",
        "  tf.keras.layers.Flatten(input_shape=(28,28)),\n",
        "  tf.keras.layers.Dense(512, activation=tf.nn.relu),\n",
        "  tf.keras.layers.Dropout(0.2),\n",
        "  tf.keras.layers.Dense(512, activation=tf.nn.relu),\n",
        "  tf.keras.layers.Dropout(0.2),\n",
        "  tf.keras.layers.Dense(10, activation=tf.nn.softmax)\n",
        "])\n",
        "\n",
        "model.compile(optimizer='adam',\n",
        "              loss='sparse_categorical_crossentropy',\n",
        "              metrics=['accuracy'])"
      ],
      "execution_count": 0,
      "outputs": [
        {
          "output_type": "stream",
          "text": [
            "WARNING:tensorflow:From /usr/local/lib/python3.6/dist-packages/tensorflow/python/ops/resource_variable_ops.py:435: colocate_with (from tensorflow.python.framework.ops) is deprecated and will be removed in a future version.\n",
            "Instructions for updating:\n",
            "Colocations handled automatically by placer.\n",
            "WARNING:tensorflow:From /usr/local/lib/python3.6/dist-packages/tensorflow/python/keras/layers/core.py:143: calling dropout (from tensorflow.python.ops.nn_ops) with keep_prob is deprecated and will be removed in a future version.\n",
            "Instructions for updating:\n",
            "Please use `rate` instead of `keep_prob`. Rate should be set to `rate = 1 - keep_prob`.\n"
          ],
          "name": "stdout"
        }
      ]
    },
    {
      "metadata": {
        "id": "aZiU_2m85Kbc",
        "colab_type": "code",
        "outputId": "8f21b6fa-2583-4e85-a107-e9e363f01919",
        "colab": {
          "base_uri": "https://localhost:8080/",
          "height": 578
        }
      },
      "cell_type": "code",
      "source": [
        "model.fit(images_train, labels_train, epochs=16)"
      ],
      "execution_count": 0,
      "outputs": [
        {
          "output_type": "stream",
          "text": [
            "Epoch 1/16\n",
            "60000/60000 [==============================] - 29s 476us/sample - loss: 0.0262 - acc: 0.9952\n",
            "Epoch 2/16\n",
            "60000/60000 [==============================] - 29s 475us/sample - loss: 0.0227 - acc: 0.9955\n",
            "Epoch 3/16\n",
            "60000/60000 [==============================] - 28s 474us/sample - loss: 0.0294 - acc: 0.9950\n",
            "Epoch 4/16\n",
            "60000/60000 [==============================] - 28s 472us/sample - loss: 0.0285 - acc: 0.9954\n",
            "Epoch 5/16\n",
            "60000/60000 [==============================] - 28s 465us/sample - loss: 0.0294 - acc: 0.9954\n",
            "Epoch 6/16\n",
            "60000/60000 [==============================] - 28s 462us/sample - loss: 0.0300 - acc: 0.9953\n",
            "Epoch 7/16\n",
            "60000/60000 [==============================] - 28s 466us/sample - loss: 0.0256 - acc: 0.9953\n",
            "Epoch 8/16\n",
            "60000/60000 [==============================] - 28s 466us/sample - loss: 0.0297 - acc: 0.9955\n",
            "Epoch 9/16\n",
            "60000/60000 [==============================] - 28s 466us/sample - loss: 0.0322 - acc: 0.9952\n",
            "Epoch 10/16\n",
            "60000/60000 [==============================] - 28s 464us/sample - loss: 0.0284 - acc: 0.9956\n",
            "Epoch 11/16\n",
            "60000/60000 [==============================] - 28s 470us/sample - loss: 0.0241 - acc: 0.9959\n",
            "Epoch 12/16\n",
            "60000/60000 [==============================] - 29s 483us/sample - loss: 0.0273 - acc: 0.9955\n",
            "Epoch 13/16\n",
            "60000/60000 [==============================] - 28s 469us/sample - loss: 0.0365 - acc: 0.9949\n",
            "Epoch 14/16\n",
            "60000/60000 [==============================] - 28s 471us/sample - loss: 0.0252 - acc: 0.9960\n",
            "Epoch 15/16\n",
            "60000/60000 [==============================] - 28s 460us/sample - loss: 0.0297 - acc: 0.9955\n",
            "Epoch 16/16\n",
            "60000/60000 [==============================] - 28s 459us/sample - loss: 0.0289 - acc: 0.9956\n"
          ],
          "name": "stdout"
        },
        {
          "output_type": "execute_result",
          "data": {
            "text/plain": [
              "<tensorflow.python.keras.callbacks.History at 0x7f90a104ab70>"
            ]
          },
          "metadata": {
            "tags": []
          },
          "execution_count": 14
        }
      ]
    },
    {
      "metadata": {
        "id": "JdBAe2gi5Kbv",
        "colab_type": "code",
        "outputId": "e9b7cf1a-0f8a-4067-a2e0-221c0cf5e7a1",
        "colab": {
          "base_uri": "https://localhost:8080/",
          "height": 51
        }
      },
      "cell_type": "code",
      "source": [
        "test_loss, test_acc = model.evaluate(images_test, labels_test)\n",
        "print('Test accuracy:', test_acc)"
      ],
      "execution_count": 0,
      "outputs": [
        {
          "output_type": "stream",
          "text": [
            "10000/10000 [==============================] - 1s 111us/sample - loss: 0.1678 - acc: 0.9834\n",
            "Test accuracy: 0.9834\n"
          ],
          "name": "stdout"
        }
      ]
    },
    {
      "metadata": {
        "id": "qIp56w8P5KcT",
        "colab_type": "text"
      },
      "cell_type": "markdown",
      "source": [
        "## Model evaluation "
      ]
    },
    {
      "metadata": {
        "id": "_YojXvfT5KcZ",
        "colab_type": "text"
      },
      "cell_type": "markdown",
      "source": [
        "Let's take one image from the test set:"
      ]
    },
    {
      "metadata": {
        "id": "L0cOP-oE5Kcb",
        "colab_type": "code",
        "colab": {}
      },
      "cell_type": "code",
      "source": [
        "example_img = images_test[0]"
      ],
      "execution_count": 0,
      "outputs": []
    },
    {
      "metadata": {
        "id": "wJz-bbUZ5Kea",
        "colab_type": "code",
        "outputId": "7a54ac95-bdae-48ac-d9ac-80319720d278",
        "colab": {
          "base_uri": "https://localhost:8080/",
          "height": 347
        }
      },
      "cell_type": "code",
      "source": [
        "plt.grid(False)\n",
        "plt.xticks([])\n",
        "plt.yticks([])\n",
        "plt.imshow(example_img, cmap=plt.cm.binary)"
      ],
      "execution_count": 0,
      "outputs": [
        {
          "output_type": "execute_result",
          "data": {
            "text/plain": [
              "<matplotlib.image.AxesImage at 0x7f90a107a160>"
            ]
          },
          "metadata": {
            "tags": []
          },
          "execution_count": 18
        },
        {
          "output_type": "display_data",
          "data": {
            "image/png": "[encoded data removed]",
            "text/plain": [
              "<Figure size 576x396 with 1 Axes>"
            ]
          },
          "metadata": {
            "tags": []
          }
        }
      ]
    },
    {
      "metadata": {
        "id": "OEpBoHp05KhE",
        "colab_type": "text"
      },
      "cell_type": "markdown",
      "source": [
        "What does our prediction say?"
      ]
    },
    {
      "metadata": {
        "id": "hrCXItlP5KhN",
        "colab_type": "code",
        "outputId": "ca3d3c98-55f2-41d7-8dae-58b9a1c55456",
        "colab": {
          "base_uri": "https://localhost:8080/",
          "height": 85
        }
      },
      "cell_type": "code",
      "source": [
        "example_img_as_input = (np.expand_dims(example_img,0))\n",
        "print(\"Image data shape:\", example_img_as_input.shape)\n",
        "\n",
        "img_prediction = model.predict(example_img_as_input)\n",
        "print(\"Prediction results:\", img_prediction)\n",
        "print(\"Predicted value:\", np.argmax(img_prediction))"
      ],
      "execution_count": 0,
      "outputs": [
        {
          "output_type": "stream",
          "text": [
            "Image data shape: (1, 28, 28)\n",
            "Prediction results: [[0.000000e+00 0.000000e+00 0.000000e+00 0.000000e+00 0.000000e+00\n",
            "  0.000000e+00 0.000000e+00 1.000000e+00 0.000000e+00 4.553496e-31]]\n",
            "Predicted value: 7\n"
          ],
          "name": "stdout"
        }
      ]
    },
    {
      "metadata": {
        "id": "DOi11wp-5Khk",
        "colab_type": "text"
      },
      "cell_type": "markdown",
      "source": [
        "Visualise more predictions. Plot the first X test images, their predicted label, and the true label. Color correct predictions in blue, incorrect predictions in red."
      ]
    },
    {
      "metadata": {
        "id": "jl3osEy25Khn",
        "colab_type": "code",
        "colab": {}
      },
      "cell_type": "code",
      "source": [
        "# Helper functions\n",
        "\n",
        "import matplotlib.pyplot as plt\n",
        "import numpy as np\n",
        "\n",
        "\n",
        "def plot_image(i, predictions_array, true_label, img, class_names):\n",
        "    predictions_array, true_label, img = predictions_array[i], true_label[i], img[i]\n",
        "    plt.grid(False)\n",
        "    plt.xticks([])\n",
        "    plt.yticks([])\n",
        "\n",
        "    plt.imshow(img, cmap=plt.cm.binary)\n",
        "\n",
        "    predicted_label = np.argmax(predictions_array)\n",
        "    if predicted_label == true_label:\n",
        "        color = 'blue'\n",
        "    else:\n",
        "        color = 'red'\n",
        "\n",
        "    plt.xlabel(\"{} {:2.0f}% ({})\".format(class_names[predicted_label],\n",
        "                                         100 * np.max(predictions_array),\n",
        "                                         class_names[true_label]),\n",
        "               color=color)\n",
        "\n",
        "\n",
        "def plot_value_array(i, predictions_array, true_label):\n",
        "    predictions_array, true_label = predictions_array[i], true_label[i]\n",
        "    plt.grid(False)\n",
        "    plt.xticks([])\n",
        "    plt.yticks([])\n",
        "    thisplot = plt.bar(range(10), predictions_array, color=\"#777777\")\n",
        "    plt.ylim([0, 1])\n",
        "    predicted_label = np.argmax(predictions_array)\n",
        "\n",
        "    thisplot[predicted_label].set_color('red')\n",
        "    thisplot[true_label].set_color('blue')\n"
      ],
      "execution_count": 0,
      "outputs": []
    },
    {
      "metadata": {
        "scrolled": true,
        "id": "NzgZhXxv5Kh0",
        "colab_type": "code",
        "outputId": "07f36ddd-95c3-40ee-e4a4-c90e240e2b65",
        "colab": {
          "base_uri": "https://localhost:8080/",
          "height": 589
        }
      },
      "cell_type": "code",
      "source": [
        "predictions = model.predict(images_test)\n",
        "\n",
        "num_rows = 5\n",
        "num_cols = 3\n",
        "num_images = num_rows*num_cols\n",
        "plt.figure(figsize=(2  *2*num_cols, 2*num_rows))\n",
        "for i in range(num_images):\n",
        "  plt.subplot(num_rows, 2*num_cols, 2*i+1)\n",
        "  plot_image(i, predictions, labels_test, images_test, class_names)\n",
        "  plt.subplot(num_rows, 2*num_cols, 2*i+2)\n",
        "  plot_value_array(i, predictions, labels_test)"
      ],
      "execution_count": 0,
      "outputs": [
        {
          "output_type": "display_data",
          "data": {
            "image/png": "[encoded data removed]",
            "text/plain": [
              "<Figure size 864x720 with 30 Axes>"
            ]
          },
          "metadata": {
            "tags": []
          }
        }
      ]
    },
    {
      "metadata": {
        "id": "JMYkZp3X5KiQ",
        "colab_type": "text"
      },
      "cell_type": "markdown",
      "source": [
        "## Save and export model"
      ]
    },
    {
      "metadata": {
        "id": "MOPxF0LF5KiS",
        "colab_type": "code",
        "colab": {}
      },
      "cell_type": "code",
      "source": [
        "!pip install -q h5py pyyaml"
      ],
      "execution_count": 0,
      "outputs": []
    },
    {
      "metadata": {
        "id": "HI2INeAV5Kiw",
        "colab_type": "code",
        "outputId": "9d11e3c6-c979-404f-d0b4-90a9f6752e52",
        "colab": {
          "base_uri": "https://localhost:8080/",
          "height": 391
        }
      },
      "cell_type": "code",
      "source": [
        "model.summary()\n",
        "loss, acc = model.evaluate(images_test, labels_test)\n",
        "print(\"Restored model, accuracy: {:5.2f}%\".format(100*acc))\n",
        "print(\"Restored model, loss: {}\".format(loss))"
      ],
      "execution_count": 0,
      "outputs": [
        {
          "output_type": "stream",
          "text": [
            "_________________________________________________________________\n",
            "Layer (type)                 Output Shape              Param #   \n",
            "=================================================================\n",
            "flatten (Flatten)            (None, 784)               0         \n",
            "_________________________________________________________________\n",
            "dense (Dense)                (None, 512)               401920    \n",
            "_________________________________________________________________\n",
            "dropout (Dropout)            (None, 512)               0         \n",
            "_________________________________________________________________\n",
            "dense_1 (Dense)              (None, 512)               262656    \n",
            "_________________________________________________________________\n",
            "dropout_1 (Dropout)          (None, 512)               0         \n",
            "_________________________________________________________________\n",
            "dense_2 (Dense)              (None, 10)                5130      \n",
            "=================================================================\n",
            "Total params: 669,706\n",
            "Trainable params: 669,706\n",
            "Non-trainable params: 0\n",
            "_________________________________________________________________\n",
            "10000/10000 [==============================] - 1s 91us/sample - loss: 0.1678 - acc: 0.9834\n",
            "Restored model, accuracy: 98.34%\n",
            "Restored model, loss: 0.16776347318158988\n"
          ],
          "name": "stdout"
        }
      ]
    },
    {
      "metadata": {
        "id": "cC9193_M5Ki5",
        "colab_type": "code",
        "colab": {}
      },
      "cell_type": "code",
      "source": [
        "keras_mnist_model = 'mnist_model.h5'"
      ],
      "execution_count": 0,
      "outputs": []
    },
    {
      "metadata": {
        "id": "MHx0XkRI5Kj_",
        "colab_type": "code",
        "colab": {}
      },
      "cell_type": "code",
      "source": [
        "model.save(keras_mnist_model)"
      ],
      "execution_count": 0,
      "outputs": []
    },
    {
      "metadata": {
        "id": "dLQbfaYH5KoP",
        "colab_type": "text"
      },
      "cell_type": "markdown",
      "source": [
        "### Load saved model\n",
        "Just to make sure that it looks the same as the one that we created."
      ]
    },
    {
      "metadata": {
        "id": "IULFxdjy5KoQ",
        "colab_type": "code",
        "outputId": "04909533-ee7a-470e-ecde-ea8d733cb7ce",
        "colab": {
          "base_uri": "https://localhost:8080/",
          "height": 340
        }
      },
      "cell_type": "code",
      "source": [
        "new_model = keras.models.load_model(keras_mnist_model)\n",
        "new_model.summary()"
      ],
      "execution_count": 0,
      "outputs": [
        {
          "output_type": "stream",
          "text": [
            "_________________________________________________________________\n",
            "Layer (type)                 Output Shape              Param #   \n",
            "=================================================================\n",
            "flatten (Flatten)            (None, 784)               0         \n",
            "_________________________________________________________________\n",
            "dense (Dense)                (None, 512)               401920    \n",
            "_________________________________________________________________\n",
            "dropout (Dropout)            (None, 512)               0         \n",
            "_________________________________________________________________\n",
            "dense_1 (Dense)              (None, 512)               262656    \n",
            "_________________________________________________________________\n",
            "dropout_1 (Dropout)          (None, 512)               0         \n",
            "_________________________________________________________________\n",
            "dense_2 (Dense)              (None, 10)                5130      \n",
            "=================================================================\n",
            "Total params: 669,706\n",
            "Trainable params: 669,706\n",
            "Non-trainable params: 0\n",
            "_________________________________________________________________\n"
          ],
          "name": "stdout"
        }
      ]
    },
    {
      "metadata": {
        "id": "a9xFvPr95Kob",
        "colab_type": "code",
        "outputId": "ec23f7c7-3663-446c-d926-553e0eb1104a",
        "colab": {
          "base_uri": "https://localhost:8080/",
          "height": 68
        }
      },
      "cell_type": "code",
      "source": [
        "loss, acc = new_model.evaluate(images_test, labels_test)\n",
        "print(\"Restored model, accuracy: {:5.2f}%\".format(100*acc))\n",
        "print(\"Restored model, loss: {}\".format(loss))"
      ],
      "execution_count": 0,
      "outputs": [
        {
          "output_type": "stream",
          "text": [
            "10000/10000 [==============================] - 1s 112us/sample - loss: 0.1678 - acc: 0.9834\n",
            "Restored model, accuracy: 98.34%\n",
            "Restored model, loss: 0.16776347318158988\n"
          ],
          "name": "stdout"
        }
      ]
    },
    {
      "metadata": {
        "id": "yoYwRHN-5Ko-",
        "colab_type": "text"
      },
      "cell_type": "markdown",
      "source": [
        "## Convert model to TensorFlow Lite"
      ]
    },
    {
      "metadata": {
        "id": "j5LR7Hz_5KpA",
        "colab_type": "code",
        "outputId": "7e424b2c-32cd-4e9c-e1de-3f27102dd20c",
        "colab": {
          "base_uri": "https://localhost:8080/",
          "height": 309
        }
      },
      "cell_type": "code",
      "source": [
        "tflite_mnist_model = \"mnist_model.tflite\"\n",
        "\n",
        "converter = tf.contrib.lite.TFLiteConverter.from_keras_model_file(keras_mnist_model)\n",
        "tflite_model = converter.convert()\n",
        "open(tflite_mnist_model, \"wb\").write(tflite_model)"
      ],
      "execution_count": 0,
      "outputs": [
        {
          "output_type": "stream",
          "text": [
            "\n",
            "WARNING: The TensorFlow contrib module will not be included in TensorFlow 2.0.\n",
            "For more information, please see:\n",
            "  * https://github.com/tensorflow/community/blob/master/rfcs/20180907-contrib-sunset.md\n",
            "  * https://github.com/tensorflow/addons\n",
            "If you depend on functionality not listed there, please file an issue.\n",
            "\n",
            "WARNING:tensorflow:From /usr/local/lib/python3.6/dist-packages/tensorflow/lite/python/lite.py:591: convert_variables_to_constants (from tensorflow.python.framework.graph_util_impl) is deprecated and will be removed in a future version.\n",
            "Instructions for updating:\n",
            "Use tf.compat.v1.graph_util.convert_variables_to_constants\n",
            "WARNING:tensorflow:From /usr/local/lib/python3.6/dist-packages/tensorflow/python/framework/graph_util_impl.py:245: extract_sub_graph (from tensorflow.python.framework.graph_util_impl) is deprecated and will be removed in a future version.\n",
            "Instructions for updating:\n",
            "Use tf.compat.v1.graph_util.extract_sub_graph\n",
            "INFO:tensorflow:Froze 6 variables.\n",
            "INFO:tensorflow:Converted 6 variables to const ops.\n"
          ],
          "name": "stdout"
        },
        {
          "output_type": "execute_result",
          "data": {
            "text/plain": [
              "2680200"
            ]
          },
          "metadata": {
            "tags": []
          },
          "execution_count": 32
        }
      ]
    },
    {
      "metadata": {
        "id": "XYIPmtYx5Kpi",
        "colab_type": "text"
      },
      "cell_type": "markdown",
      "source": [
        "(⚠️📲👀)\n",
        "\n",
        "Now learn more about out TensorFlow Lite model. You need to know those information when you will implement model in client app (Android, iOS, anything else using TensorFlow Lite)."
      ]
    },
    {
      "metadata": {
        "id": "5P1dpiWZ5Kpk",
        "colab_type": "code",
        "outputId": "750ad6a2-4525-4da6-b504-2c8992d10827",
        "colab": {
          "base_uri": "https://localhost:8080/",
          "height": 272
        }
      },
      "cell_type": "code",
      "source": [
        "interpreter = tf.contrib.lite.Interpreter(model_path=tflite_mnist_model)\n",
        "interpreter.allocate_tensors()\n",
        "\n",
        "print(\"== Input details ==\")\n",
        "print(\"name:\", interpreter.get_input_details()[0]['name'])\n",
        "print(\"shape:\", interpreter.get_input_details()[0]['shape'])\n",
        "print(\"type:\", interpreter.get_input_details()[0]['dtype'])\n",
        "\n",
        "print(\"\\n== Output details ==\")\n",
        "print(\"name:\", interpreter.get_output_details()[0]['name'])\n",
        "print(\"shape:\", interpreter.get_output_details()[0]['shape'])\n",
        "print(\"type:\", interpreter.get_output_details()[0]['dtype'])\n",
        "\n",
        "print(\"\\nDUMP INPUT\")\n",
        "print(interpreter.get_input_details()[0])\n",
        "print(\"\\nDUMP OUTPUT\")\n",
        "print(interpreter.get_output_details()[0])"
      ],
      "execution_count": 0,
      "outputs": [
        {
          "output_type": "stream",
          "text": [
            "== Input details ==\n",
            "name: flatten_input\n",
            "shape: [ 1 28 28]\n",
            "type: <class 'numpy.float32'>\n",
            "\n",
            "== Output details ==\n",
            "name: dense_2/Softmax\n",
            "shape: [ 1 10]\n",
            "type: <class 'numpy.float32'>\n",
            "\n",
            "DUMP INPUT\n",
            "{'name': 'flatten_input', 'index': 10, 'shape': array([ 1, 28, 28], dtype=int32), 'dtype': <class 'numpy.float32'>, 'quantization': (0.0, 0)}\n",
            "\n",
            "DUMP OUTPUT\n",
            "{'name': 'dense_2/Softmax', 'index': 8, 'shape': array([ 1, 10], dtype=int32), 'dtype': <class 'numpy.float32'>, 'quantization': (0.0, 0)}\n"
          ],
          "name": "stdout"
        }
      ]
    },
    {
      "metadata": {
        "id": "1DoS7GkL5Kp1",
        "colab_type": "text"
      },
      "cell_type": "markdown",
      "source": [
        "From input details we learn that input shape is [1 28 28] and its type - Float32. On mobile app we'll need to create byte array of size: 3136 bytes (28 x 28 x 4). 4 is size of Float32 value."
      ]
    },
    {
      "metadata": {
        "id": "VKXSC5HG5Kp8",
        "colab_type": "text"
      },
      "cell_type": "markdown",
      "source": [
        "## TensorFlow Lite model evaluation\n",
        "Let's make sure our TF Lite model is still working after the conversion. \n",
        "\n",
        "Pick random image:"
      ]
    },
    {
      "metadata": {
        "id": "R2Ao7U195Kp_",
        "colab_type": "code",
        "outputId": "477f095f-7ce3-4bee-d0ee-e1092a58fd8b",
        "colab": {
          "base_uri": "https://localhost:8080/",
          "height": 347
        }
      },
      "cell_type": "code",
      "source": [
        "example_img_for_tflite = images_test[10]\n",
        "\n",
        "plt.grid(False)\n",
        "plt.xticks([])\n",
        "plt.yticks([])\n",
        "plt.imshow(example_img_for_tflite, cmap=plt.cm.binary)"
      ],
      "execution_count": 0,
      "outputs": [
        {
          "output_type": "execute_result",
          "data": {
            "text/plain": [
              "<matplotlib.image.AxesImage at 0x7f90989ca080>"
            ]
          },
          "metadata": {
            "tags": []
          },
          "execution_count": 36
        },
        {
          "output_type": "display_data",
          "data": {
            "image/png": "[encoded data removed]",
            "text/plain": [
              "<Figure size 576x396 with 1 Axes>"
            ]
          },
          "metadata": {
            "tags": []
          }
        }
      ]
    },
    {
      "metadata": {
        "id": "i4ks2b2E5KqY",
        "colab_type": "text"
      },
      "cell_type": "markdown",
      "source": [
        "Make sure that input data is matching to model's input and make a prediction! 🙂"
      ]
    },
    {
      "metadata": {
        "id": "2GRVIGl95Kqa",
        "colab_type": "code",
        "colab": {}
      },
      "cell_type": "code",
      "source": [
        "example_img_for_tflite = np.expand_dims(example_img_for_tflite,0).astype(np.float32)\n",
        "print(\"Input data shape:\", example_img_for_tflite.shape)\n",
        "print(\"Input data type:\", example_img_for_tflite.dtype)\n",
        "\n",
        "input_details = interpreter.get_input_details()\n",
        "interpreter.set_tensor(input_details[0]['index'], example_img_for_tflite)\n",
        "\n",
        "interpreter.invoke()\n",
        "\n",
        "output_details = interpreter.get_output_details()\n",
        "output_data = interpreter.get_tensor(output_details[0]['index'])\n",
        "print(\"\\n\\nPrediction results:\", output_data)\n",
        "print(\"Predicted value:\", np.argmax(output_data))"
      ],
      "execution_count": 0,
      "outputs": []
    },
    {
      "metadata": {
        "id": "ActY80or5Kqi",
        "colab_type": "text"
      },
      "cell_type": "markdown",
      "source": [
        "Classify image from the outside. Something similar what app will do."
      ]
    },
    {
      "metadata": {
        "id": "hzgdQGrH5Kqn",
        "colab_type": "code",
        "outputId": "863684d1-7cc1-4734-83a7-2a46e2f42912",
        "colab": {
          "base_uri": "https://localhost:8080/",
          "height": 352
        }
      },
      "cell_type": "code",
      "source": [
        "from PIL import Image\n",
        "import PIL.ImageOps    \n",
        "\n",
        "img = Image.open(\"test.png\").convert('L')\n",
        "img.load()\n",
        "img = PIL.ImageOps.invert(img)\n",
        "data = np.asarray( img, dtype=\"int32\" )\n",
        "\n",
        "plt.grid(False)\n",
        "plt.xticks([])\n",
        "plt.yticks([])\n",
        "plt.imshow(data, cmap=plt.cm.binary)\n",
        "\n",
        "data = data / 255.0\n",
        "inputImg = np.expand_dims(data,0).astype(np.float32)\n",
        "inputImg.shape\n",
        "\n",
        "input_details = interpreter.get_input_details()\n",
        "interpreter.set_tensor(input_details[0]['index'], inputImg)\n",
        "\n",
        "interpreter.invoke()\n",
        "\n",
        "output_details = interpreter.get_output_details()\n",
        "output_data = interpreter.get_tensor(output_details[0]['index'])\n",
        "print(\"Prediction results:\", output_data)\n",
        "print(\"Predicted value:\", np.argmax(output_data))"
      ],
      "execution_count": 0,
      "outputs": [
        {
          "output_type": "error",
          "ename": "FileNotFoundError",
          "evalue": "ignored",
          "traceback": [
            "\u001b[0;31m---------------------------------------------------------------------------\u001b[0m",
            "\u001b[0;31mFileNotFoundError\u001b[0m                         Traceback (most recent call last)",
            "\u001b[0;32m<ipython-input-49-a05ad24ff398>\u001b[0m in \u001b[0;36m<module>\u001b[0;34m()\u001b[0m\n\u001b[1;32m      2\u001b[0m \u001b[0;32mimport\u001b[0m \u001b[0mPIL\u001b[0m\u001b[0;34m.\u001b[0m\u001b[0mImageOps\u001b[0m\u001b[0;34m\u001b[0m\u001b[0;34m\u001b[0m\u001b[0m\n\u001b[1;32m      3\u001b[0m \u001b[0;34m\u001b[0m\u001b[0m\n\u001b[0;32m----> 4\u001b[0;31m \u001b[0mimg\u001b[0m \u001b[0;34m=\u001b[0m \u001b[0mImage\u001b[0m\u001b[0;34m.\u001b[0m\u001b[0mopen\u001b[0m\u001b[0;34m(\u001b[0m\u001b[0;34m\"test.png\"\u001b[0m\u001b[0;34m)\u001b[0m\u001b[0;34m.\u001b[0m\u001b[0mconvert\u001b[0m\u001b[0;34m(\u001b[0m\u001b[0;34m'L'\u001b[0m\u001b[0;34m)\u001b[0m\u001b[0;34m\u001b[0m\u001b[0;34m\u001b[0m\u001b[0m\n\u001b[0m\u001b[1;32m      5\u001b[0m \u001b[0mimg\u001b[0m\u001b[0;34m.\u001b[0m\u001b[0mload\u001b[0m\u001b[0;34m(\u001b[0m\u001b[0;34m)\u001b[0m\u001b[0;34m\u001b[0m\u001b[0;34m\u001b[0m\u001b[0m\n\u001b[1;32m      6\u001b[0m \u001b[0mimg\u001b[0m \u001b[0;34m=\u001b[0m \u001b[0mPIL\u001b[0m\u001b[0;34m.\u001b[0m\u001b[0mImageOps\u001b[0m\u001b[0;34m.\u001b[0m\u001b[0minvert\u001b[0m\u001b[0;34m(\u001b[0m\u001b[0mimg\u001b[0m\u001b[0;34m)\u001b[0m\u001b[0;34m\u001b[0m\u001b[0;34m\u001b[0m\u001b[0m\n",
            "\u001b[0;32m/usr/local/lib/python3.6/dist-packages/PIL/Image.py\u001b[0m in \u001b[0;36mopen\u001b[0;34m(fp, mode)\u001b[0m\n\u001b[1;32m   2310\u001b[0m \u001b[0;34m\u001b[0m\u001b[0m\n\u001b[1;32m   2311\u001b[0m     \u001b[0;32mif\u001b[0m \u001b[0mfilename\u001b[0m\u001b[0;34m:\u001b[0m\u001b[0;34m\u001b[0m\u001b[0;34m\u001b[0m\u001b[0m\n\u001b[0;32m-> 2312\u001b[0;31m         \u001b[0mfp\u001b[0m \u001b[0;34m=\u001b[0m \u001b[0mbuiltins\u001b[0m\u001b[0;34m.\u001b[0m\u001b[0mopen\u001b[0m\u001b[0;34m(\u001b[0m\u001b[0mfilename\u001b[0m\u001b[0;34m,\u001b[0m \u001b[0;34m\"rb\"\u001b[0m\u001b[0;34m)\u001b[0m\u001b[0;34m\u001b[0m\u001b[0;34m\u001b[0m\u001b[0m\n\u001b[0m\u001b[1;32m   2313\u001b[0m \u001b[0;34m\u001b[0m\u001b[0m\n\u001b[1;32m   2314\u001b[0m     \u001b[0;32mtry\u001b[0m\u001b[0;34m:\u001b[0m\u001b[0;34m\u001b[0m\u001b[0;34m\u001b[0m\u001b[0m\n",
            "\u001b[0;31mFileNotFoundError\u001b[0m: [Errno 2] No such file or directory: 'test.png'"
          ]
        }
      ]
    },
    {
      "metadata": {
        "id": "L-AW7v6R5KrZ",
        "colab_type": "code",
        "colab": {}
      },
      "cell_type": "code",
      "source": [
        ""
      ],
      "execution_count": 0,
      "outputs": []
    }
  ]
}